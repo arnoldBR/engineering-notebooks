{
 "cells": [
  {
   "cell_type": "code",
   "execution_count": 1,
   "id": "ea5afad2-159a-4f5e-8af7-6651a586dd9d",
   "metadata": {},
   "outputs": [],
   "source": [
    "import handcalcs.render\n",
    "import forallpeople\n",
    "from math import sqrt\n",
    "\n",
    "forallpeople.environment('structural', top_level = True)\n",
    "cm = 10*mm"
   ]
  },
  {
   "cell_type": "markdown",
   "id": "845d8358-2d47-4a69-97e5-b0da7918424f",
   "metadata": {
    "tags": []
   },
   "source": [
    "# Modelo para cálculo de viga com seção compacta\n",
    "Conhecer a viga é definir:\n",
    "* Qual o momento de início do escoamento (yield moment) $0.7 M_y$?\n",
    "    * $0.7 M_y=0.7 S F_y$\n",
    "* Qual o momento de plastificação da seção $M_p$?\n",
    "    * $M_p = Z f_y$"
   ]
  },
  {
   "cell_type": "code",
   "execution_count": 27,
   "id": "d0597848-8fad-402f-acd8-989c3ef48a2d",
   "metadata": {},
   "outputs": [
    {
     "data": {
      "text/latex": [
       "\\[\n",
       "\\begin{aligned}\n",
       "S_{x} &= 3241.30 \\cdot \\left( \\mathrm{cm} \\right) ^{ 3 }  = 3241.30 \\cdot \\left( 10.00\\ \\text{mm} \\right) ^{ 3 } &= 3241300.00\\ \\text{mm}^{3} \\; \\;\\textrm{(módulo elástico)}\n",
       "\\\\[10pt]\n",
       "F_{y} &= 350 \\cdot \\mathrm{MPa}  = 350 \\cdot MPa &= 350.00\\ \\text{MPa}  \n",
       "\\\\[10pt]\n",
       "Z_{x} &= 3697.30 \\cdot \\left( \\mathrm{cm} \\right) ^{ 3 }  = 3697.30 \\cdot \\left( 10.00\\ \\text{mm} \\right) ^{ 3 } &= 3697300.00\\ \\text{mm}^{3} \\; \\;\\textrm{(módulo plástico)}\n",
       "\\\\[10pt]\n",
       "M_{y} &= S_{x} \\cdot F_{y}  = 3241300.00\\ \\text{mm}^{3} \\cdot 350.00\\ \\text{MPa} &= 1.13\\ \\text{MN} \\cdot \\text{m}  \n",
       "\\\\[10pt]\n",
       "M_{esc} &= 0.7 \\cdot M_{y}  = 0.7 \\cdot 1.13\\ \\text{MN} \\cdot \\text{m} &= 794.12\\ \\text{kN} \\cdot \\text{m}  \n",
       "\\\\[10pt]\n",
       "M_{p} &= Z_{x} \\cdot F_{y}  = 3697300.00\\ \\text{mm}^{3} \\cdot 350.00\\ \\text{MPa} &= 1.29\\ \\text{MN} \\cdot \\text{m}  \n",
       "\\end{aligned}\n",
       "\\]"
      ],
      "text/plain": [
       "<IPython.core.display.Latex object>"
      ]
     },
     "metadata": {},
     "output_type": "display_data"
    }
   ],
   "source": [
    "%%render 2\n",
    "# Valores para W 610x125\n",
    "S_x = 3241.30 * cm ** 3 # módulo elástico \n",
    "F_y = 350 * MPa\n",
    "Z_x = 3697.30 * cm ** 3 # módulo plástico\n",
    "M_y = S_x * F_y\n",
    "M_esc =  0.7 * M_y\n",
    "M_p = Z_x * F_y"
   ]
  },
  {
   "cell_type": "markdown",
   "id": "5265074a-c130-4d68-b130-79f451752f0f",
   "metadata": {},
   "source": [
    "# Classificação da seção\n",
    "* Qual a classificação da seção para flexão? - É isso que determina o tipo de E.L.U. que poderá atingir.\n",
    "* O valor de $M_p$ acima só é alcançado caso a seção seja compacta."
   ]
  },
  {
   "cell_type": "code",
   "execution_count": 3,
   "id": "c1615a8d-db98-478a-b5c5-1a36be8f09ff",
   "metadata": {},
   "outputs": [
    {
     "data": {
      "text/latex": [
       "\\[\n",
       "\\begin{aligned}\n",
       "b_{f} &= 229.000\\ \\text{mm} \\; \n",
       " &t_{f} &= 19.600\\ \\text{mm} \\; \n",
       " &t_{w} &= 11.900\\ \\text{mm} \\; \n",
       "\\\\[10pt]\n",
       " d &= 612.000\\ \\text{mm} \\; \n",
       " &k_{des} &= 16.000\\ \\text{mm} \\; \n",
       " &h &= 540.800\\ \\text{mm} \\; \n",
       "\\\\[10pt]\\end{aligned}\n",
       "\\]"
      ],
      "text/plain": [
       "<IPython.core.display.Latex object>"
      ]
     },
     "metadata": {},
     "output_type": "display_data"
    }
   ],
   "source": [
    "%%render params\n",
    "b_f = 229.0 * mm\n",
    "t_f = 19.6 * mm\n",
    "t_w = 11.9 * mm\n",
    "d = 612.0 * mm\n",
    "k_des = 16.0 * mm\n",
    "h = d - 2*t_f - 2* k_des"
   ]
  },
  {
   "cell_type": "code",
   "execution_count": 4,
   "id": "357efd21-0a16-4dbe-9c90-08392ab7fa2a",
   "metadata": {},
   "outputs": [
    {
     "data": {
      "text/latex": [
       "\\[\n",
       "\\begin{aligned}\n",
       "& \\textrm{ Parâmetros de esbeltez:}\\\\[10pt]\n",
       "\\lambda_{f} &= \\frac{ b_{f} }{ 2 \\cdot t_{f} }  = \\frac{ 229.00\\ \\text{mm} }{ 2 \\cdot 19.60\\ \\text{mm} } &= 5.84  \n",
       "\\\\[10pt]\n",
       "\\lambda_{w} &= \\frac{ h }{ t_{w} }  = \\frac{ 540.80\\ \\text{mm} }{ 11.90\\ \\text{mm} } &= 45.45  \n",
       "\\\\[10pt]\n",
       "& \\textrm{ Aço:}\\\\[10pt]\n",
       "E &= 210000 \\cdot \\mathrm{MPa}  = 210000 \\cdot MPa &= 210.00\\ \\text{GPa}  \n",
       "\\end{aligned}\n",
       "\\]"
      ],
      "text/plain": [
       "<IPython.core.display.Latex object>"
      ]
     },
     "metadata": {},
     "output_type": "display_data"
    }
   ],
   "source": [
    "%%render 2\n",
    "## Parâmetros de esbeltez:\n",
    "lamb_f = b_f / (2 * t_f)\n",
    "lamb_w = h/t_w\n",
    "\n",
    "## Aço:\n",
    "E = 210000 * MPa"
   ]
  },
  {
   "cell_type": "code",
   "execution_count": 5,
   "id": "ec752f77-ded1-459c-bfa1-84310a137d71",
   "metadata": {
    "jupyter": {
     "source_hidden": true
    },
    "tags": []
   },
   "outputs": [
    {
     "name": "stdout",
     "output_type": "stream",
     "text": [
      "Obs.: De acordo com limites para seção monossimétrica:\n",
      "- A alma é compacta\n",
      "- A aba é compacta\n"
     ]
    }
   ],
   "source": [
    "def sec_class(lamb_f,lamb_w,F_y):\n",
    "    print('Obs.: De acordo com limites para seção monossimétrica:')\n",
    "    # Limites para a flange\n",
    "    lamb_p_f = 0.38 * sqrt(E/F_y)\n",
    "    lamb_r_f = 1 * sqrt(E/F_y)\n",
    "    #Limite para a alma\n",
    "    lamb_p_w = 3.76 * sqrt(E/F_y)\n",
    "    lamb_r_w = 5.7 * sqrt(E/F_y)\n",
    "    \n",
    "    if lamb_f < lamb_p_f:\n",
    "        aba = 'compacta'\n",
    "    elif lamb_p_f < lamb_f < lamb_r_f:\n",
    "        aba = 'não_compacta'\n",
    "    elif lamb_f > lamb_r_f:\n",
    "        aba = 'esbelta'\n",
    "\n",
    "    if lamb_w < lamb_p_w:\n",
    "        alma = 'compacta'\n",
    "    elif lamb_p_w < lamb_w < lamb_w_f:\n",
    "        alma = 'não_compacta'\n",
    "    elif lamb_w > lamb_r_w:\n",
    "        alma = 'esbelta'\n",
    "    \n",
    "    print(f'- A alma é {alma}\\n- A aba é {aba}')\n",
    "        \n",
    "sec_class(lamb_f, lamb_w, F_y)"
   ]
  },
  {
   "cell_type": "markdown",
   "id": "24219772-e8f7-4699-a126-4748de52cfc4",
   "metadata": {
    "tags": []
   },
   "source": [
    "# Levar em conta o E.L.U. de F.L.T.\n",
    "* O valor de $M_p$ só é atingido caso não ocorra F.L.T.:\n",
    "    * Caso $L_b < L_p$, $M_n = M_p$, onde $L_b$ é o comprimento destravado.\n",
    "    * Caso $L_p < L_b < L_r$, $ M_n = \\text{interp. entre M_p e M_y}$\n",
    "    * Caso $L_b > L_r$, $M_n = M_{cr}$ - E.L.U. de flambagem lateral torsional, M_cr é uma calculera"
   ]
  },
  {
   "cell_type": "markdown",
   "id": "9e5b80b9-7185-4869-a103-264eb0f8adf2",
   "metadata": {},
   "source": [
    "$$L_r = 1.95 r_{ts} \\frac{E}{0.7F_y} \\sqrt{\\frac{Jc}{S_x h_o} + \\sqrt{ \\left( \\frac{Jc}{S_x h_o}\\right) ^2 + 6.76 \\left( \\frac{0.7 F_y}{E}\\right)^2 }}$$"
   ]
  },
  {
   "cell_type": "code",
   "execution_count": 29,
   "id": "ec70ad76-2222-465f-bd3b-dd03d4193273",
   "metadata": {},
   "outputs": [
    {
     "data": {
      "text/latex": [
       "\\[\n",
       "\\begin{aligned}\n",
       "& \\textrm{ Raio de giração:}\\\\[10pt]\n",
       "r_{y} &= 49.6 \\cdot \\mathrm{mm}  = 49.6 \\cdot mm &= 49.600\\ \\text{mm}  \n",
       "\\\\[10pt]\n",
       "I_{y} &= 4515.00 \\cdot \\left( \\mathrm{cm} \\right) ^{ 4 }  = 4515.00 \\cdot \\left( 10.000\\ \\text{mm} \\right) ^{ 4 } &= 45150000.000\\ \\text{mm}^{4}  \n",
       "\\\\[10pt]\n",
       "J &= 159.50 \\cdot \\left( \\mathrm{cm} \\right) ^{ 4 }  = 159.50 \\cdot \\left( 10.000\\ \\text{mm} \\right) ^{ 4 } &= 1595000.000\\ \\text{mm}^{4}  \n",
       "\\\\[10pt]\n",
       "h_{o} &= d - t_{f}  = 612.000\\ \\text{mm} - 19.600\\ \\text{mm} &= 592.400\\ \\text{mm} \\; \\;\\textrm{(Dist. entre centróides das flanges)}\n",
       "\\\\[10pt]\n",
       "r_{ts} &= \\left( \\frac{ I_{y} \\cdot h_{o} }{ 2 \\cdot S_{x} } \\right) ^{ 0.5 }  = \\left( \\frac{ 45150000.000\\ \\text{mm}^{4} \\cdot 592.400\\ \\text{mm} }{ 2 \\cdot 3241300.000\\ \\text{mm}^{3} } \\right) ^{ 0.5 } &= 64.234\\ \\text{mm}  \n",
       "\\\\[10pt]\n",
       "c &= 1 \\; \\;\\textrm{(para seção bissimétrica)}\n",
       "\\\\[10pt]\n",
       "L_{r} &= 1.95 \\cdot r_{ts} \\cdot \\left( \\frac{ E }{ .7 \\cdot F_{y} } \\right) \\cdot \\left( J \\cdot \\frac{ c }{ S_{x} \\cdot h_{o} } + \\left( \\left( J \\cdot \\frac{ c }{ S_{x} \\cdot h_{o} } \\right) ^{ 2 } + 6.76 \\cdot \\left( .7 \\cdot \\frac{ F_{y} }{ E } \\right) ^{ 2 } \\right) ^{ .5 } \\right) ^{ .5 } \\\\&= 1.95 \\cdot 64.234\\ \\text{mm} \\cdot \\left( \\frac{ 210.000\\ \\text{GPa} }{ .7 \\cdot 350.000\\ \\text{MPa} } \\right) \\cdot \\left( 1595000.000\\ \\text{mm}^{4} \\cdot \\frac{ 1 }{ 3241300.000\\ \\text{mm}^{3} \\cdot 592.400\\ \\text{mm} } + \\left( \\left( 1595000.000\\ \\text{mm}^{4} \\cdot \\frac{ 1 }{ 3241300.000\\ \\text{mm}^{3} \\cdot 592.400\\ \\text{mm} } \\right) ^{ 2 } + 6.76 \\cdot \\left( .7 \\cdot \\frac{ 350.000\\ \\text{MPa} }{ 210.000\\ \\text{GPa} } \\right) ^{ 2 } \\right) ^{ .5 } \\right) ^{ .5 } \\\\&= 6.769\\ \\text{m}  \\\\\n",
       "\\\\[10pt]\n",
       "L_{p} &= 1.76 \\cdot i_{z} \\cdot \\sqrt { \\frac{ E }{ F_{y} } }  = 1.76 \\cdot 49.600\\ \\text{mm} \\cdot \\sqrt { \\frac{ 210.000\\ \\text{GPa} }{ 350.000\\ \\text{MPa} } } &= 2.138\\ \\text{m}  \n",
       "\\end{aligned}\n",
       "\\]"
      ],
      "text/plain": [
       "<IPython.core.display.Latex object>"
      ]
     },
     "metadata": {},
     "output_type": "display_data"
    }
   ],
   "source": [
    "%%render\n",
    "## Raio de giração:\n",
    "r_y = 49.6 * mm\n",
    "I_y = 4515.00 * cm ** 4\n",
    "J = 159.50 * cm ** 4\n",
    "\n",
    "h_o = d - t_f # Dist. entre centróides das flanges\n",
    "r_ts = ((I_y*h_o)/(2*S_x))**0.5\n",
    "c = 1 # para seção bissimétrica\n",
    "\n",
    "L_r = 1.95*r_ts * (E/(.7*F_y)) * (J*c/(S_x*h_o)+((J*c/(S_x*h_o))**2 + 6.76*(.7*F_y/E)**2 )**.5)**.5\n",
    "\n",
    "L_p = 1.76 * i_z * sqrt(E/F_y)"
   ]
  },
  {
   "cell_type": "code",
   "execution_count": null,
   "id": "9987bc40-187f-4e6f-b431-c88b36049b6a",
   "metadata": {},
   "outputs": [],
   "source": []
  }
 ],
 "metadata": {
  "kernelspec": {
   "display_name": "Python 3",
   "language": "python",
   "name": "python3"
  },
  "language_info": {
   "codemirror_mode": {
    "name": "ipython",
    "version": 3
   },
   "file_extension": ".py",
   "mimetype": "text/x-python",
   "name": "python",
   "nbconvert_exporter": "python",
   "pygments_lexer": "ipython3",
   "version": "3.9.7"
  }
 },
 "nbformat": 4,
 "nbformat_minor": 5
}
