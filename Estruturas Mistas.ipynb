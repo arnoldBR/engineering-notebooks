{
 "cells": [
  {
   "cell_type": "markdown",
   "id": "frank-slovak",
   "metadata": {
    "tags": []
   },
   "source": [
    "# Estruturas Mistas de Aço e Concreto"
   ]
  },
  {
   "cell_type": "code",
   "execution_count": 1,
   "id": "lined-singapore",
   "metadata": {
    "tags": []
   },
   "outputs": [],
   "source": [
    "import handcalcs.render\n",
    "import forallpeople\n",
    "from math import pi\n",
    "from IPython.display import display, Markdown, Math\n",
    "import sympy\n",
    "import csv\n",
    "import ipywidgets as widgets\n",
    "\n",
    "forallpeople.environment('structural', top_level = True)\n",
    "%decimal_separator ,\n"
   ]
  },
  {
   "cell_type": "markdown",
   "id": "exact-prompt",
   "metadata": {
    "toc-hr-collapsed": true
   },
   "source": [
    "# 0. Entrada de dados - geometria e materiais"
   ]
  },
  {
   "cell_type": "markdown",
   "id": "temporal-atmosphere",
   "metadata": {},
   "source": [
    "## 0.1 Materiais"
   ]
  },
  {
   "cell_type": "markdown",
   "id": "76391711-a46b-4714-a307-ea574ea2b886",
   "metadata": {},
   "source": [
    "### __Propriedades do Aço__"
   ]
  },
  {
   "cell_type": "markdown",
   "id": "verbal-halloween",
   "metadata": {},
   "source": [
    "Mudanças a fazer:\n",
    "* Incluir outros arquivos CSV com as séries de perfil que interessam (UB, ASCI, IPE, I rolado)\n",
    "* Incluir drop-down para escolher a série desejada\n",
    "* Conforme a série escolhida, abrir o arquivo certo, e obter os dados\n",
    "* Relacionar as variáveis do notebook (com unidades) com as variáveis obtidas no dicionario do perfil."
   ]
  },
  {
   "cell_type": "code",
   "execution_count": 2,
   "id": "eastern-arbitration",
   "metadata": {
    "jupyter": {
     "source_hidden": true
    },
    "scrolled": true,
    "tags": []
   },
   "outputs": [
    {
     "data": {
      "text/latex": [
       "\\[\n",
       "\\begin{aligned}\n",
       "f_{yd} &= 355{,}00\\ \\text{MPa} \\; \\;\\textrm{($γ_a=1$)}\n",
       " &E_{a} &= 210{,}00\\ \\text{GPa} \\; \n",
       " &f_{yp} &= 350{,}00\\ \\text{MPa} \\; \\;\\textrm{($γ_p=1$)}\n",
       "\\\\[10pt]\n",
       " f_{uk} &= 500{,}00\\ \\text{MPa} \\; \n",
       " &\\gamma_{v} &= 1{,}25 \\; \n",
       " &f_{ud} &= 320{,}00\\ \\text{MPa} \\; \n",
       "\\\\[10pt]\\end{aligned}\n",
       "\\]"
      ],
      "text/plain": [
       "<IPython.core.display.Latex object>"
      ]
     },
     "metadata": {},
     "output_type": "display_data"
    }
   ],
   "source": [
    "%%render params 2\n",
    "# Aço estrutural:\n",
    "f_yd = 355 * N/mm**2 # $γ_a=1$\n",
    "E_a = 210 * kN/mm**2\n",
    "\n",
    "# Aço do deck\n",
    "f_yp= 350 * N/mm**2 #$γ_p=1$\n",
    "\n",
    "# Aço dos conectores\n",
    "f_uk = 500 * N/mm**2\n",
    "gamma_v=1.25\n",
    "f_ud=400 / gamma_v * N/mm**2"
   ]
  },
  {
   "cell_type": "markdown",
   "id": "marine-lying",
   "metadata": {},
   "source": [
    "### __Propriedades do Concreto__"
   ]
  },
  {
   "cell_type": "code",
   "execution_count": 3,
   "id": "subtle-butter",
   "metadata": {
    "jupyter": {
     "source_hidden": true
    },
    "tags": []
   },
   "outputs": [
    {
     "data": {
      "text/latex": [
       "\\[\n",
       "\\begin{aligned}\n",
       "f_{ck} &= 25{,}00\\ \\text{MPa} \\; \n",
       " &\\gamma_{c} &= 1{,}5 \\; \n",
       " &f_{cd} &= 16{,}67\\ \\text{MPa} \\; \n",
       "\\\\[10pt]\n",
       " E_{cm} &= 20{,}70\\ \\text{GPa} \\; \n",
       " &n_{0} &= 10{,}14 \\; \\;\\textrm{(razão modular)}\\end{aligned}\n",
       "\\]"
      ],
      "text/plain": [
       "<IPython.core.display.Latex object>"
      ]
     },
     "metadata": {},
     "output_type": "display_data"
    }
   ],
   "source": [
    "%%render params 2\n",
    "\n",
    "# Concreto:\n",
    "f_ck = 25 * MPa\n",
    "gamma_c = 1.5\n",
    "f_cd = f_ck/gamma_c\n",
    "E_cm = 20.7 * kN/mm**2\n",
    "\n",
    "# Razão modular\n",
    "n_0 = E_a/E_cm # razão modular\n"
   ]
  },
  {
   "cell_type": "markdown",
   "id": "fifty-thumb",
   "metadata": {},
   "source": [
    "## 0.2 Geometria"
   ]
  },
  {
   "cell_type": "markdown",
   "id": "6c559540-0f34-49a2-9f39-46670eaadb97",
   "metadata": {},
   "source": [
    "### __Geometria da laje composta__"
   ]
  },
  {
   "cell_type": "code",
   "execution_count": 4,
   "id": "8ae25266-f68e-4d62-9838-454f95d58707",
   "metadata": {
    "jupyter": {
     "source_hidden": true
    },
    "tags": []
   },
   "outputs": [
    {
     "data": {
      "text/latex": [
       "\\[\n",
       "\\begin{aligned}\n",
       "h_{t} &= 150{,}000\\ \\text{mm} \\; \\;\\textrm{(espessura total da laje composta)}\n",
       " &h_{r} &= 70{,}000\\ \\text{mm} \\; \\;\\textrm{(altura da nervura (rib))}\n",
       " &h_{c} &= 80{,}000\\ \\text{mm} \\; \n",
       "\\\\[10pt]\\end{aligned}\n",
       "\\]"
      ],
      "text/plain": [
       "<IPython.core.display.Latex object>"
      ]
     },
     "metadata": {},
     "output_type": "display_data"
    }
   ],
   "source": [
    "%%render params\n",
    "h_t = 150 * mm # espessura total da laje composta\n",
    "h_r = 70 * mm # altura da nervura (rib)\n",
    "h_c = h_t - h_r"
   ]
  },
  {
   "cell_type": "markdown",
   "id": "df0f1004-b003-48ef-b555-6c3f968e26f8",
   "metadata": {},
   "source": [
    "### Conectores"
   ]
  },
  {
   "cell_type": "code",
   "execution_count": 5,
   "id": "tight-universal",
   "metadata": {
    "jupyter": {
     "source_hidden": true
    },
    "tags": []
   },
   "outputs": [
    {
     "data": {
      "text/latex": [
       "\\[\n",
       "\\begin{aligned}\n",
       "d &= 19{,}00\\ \\text{mm} \\; \\;\\textrm{(diâmetro do conector)}\\end{aligned}\n",
       "\\]"
      ],
      "text/plain": [
       "<IPython.core.display.Latex object>"
      ]
     },
     "metadata": {},
     "output_type": "display_data"
    }
   ],
   "source": [
    "%%render params 2\n",
    "\n",
    "# Conectores\n",
    "\n",
    "d = 19 * mm # diâmetro do conector\n"
   ]
  },
  {
   "cell_type": "markdown",
   "id": "51996ae2-a6de-4036-87e8-62992192c776",
   "metadata": {},
   "source": [
    "### __Viga de aço (até agora somente perfil simétrico)__"
   ]
  },
  {
   "cell_type": "code",
   "execution_count": 6,
   "id": "current-century",
   "metadata": {
    "scrolled": true
   },
   "outputs": [
    {
     "data": {
      "application/vnd.jupyter.widget-view+json": {
       "model_id": "eff82767fd4644bda1218119f7b07ca3",
       "version_major": 2,
       "version_minor": 0
      },
      "text/plain": [
       "Dropdown(description='Viga de aço:', options=('VS 150x15', 'VS 150x18', 'VS 150x20', 'VS 150x19', 'VS 150x21',…"
      ]
     },
     "metadata": {},
     "output_type": "display_data"
    }
   ],
   "source": [
    "# Seletor de perfil e gerador do dicionário com seus dados\n",
    "with open('VS_NBR.csv', 'r', encoding='utf-8-sig') as csv_file2:\n",
    "    csv_reader2 = csv.reader(csv_file2)\n",
    "    #shape_list=[]\n",
    "    shape_name_list=[]\n",
    "    \n",
    "    for i in csv_reader2:\n",
    "        #shape_list.append(i)\n",
    "        shape_name_list.append(i[0]) # Cria lista com os nomes das seções\n",
    "        #print(i)\n",
    "    shape_name_list.pop(0)\n",
    "\n",
    "shape_selector=widgets.Dropdown(\n",
    "    options=shape_name_list,\n",
    "    #value='2',\n",
    "    description='Viga de aço:',\n",
    "    disabled=False,\n",
    ")\n",
    "\n",
    "display(shape_selector)"
   ]
  },
  {
   "cell_type": "code",
   "execution_count": 22,
   "id": "junior-twins",
   "metadata": {
    "scrolled": false
   },
   "outputs": [
    {
     "name": "stdout",
     "output_type": "stream",
     "text": [
      "{'Section': 'VS 200x22', 'h[mm]': 200.0, 'b[mm]': 120.0, 'tw[mm]': 4.8, 'tf[mm]': 8.0, 'd[mm]': 184.0, 'k[mm]': 5.0, 'A[cm2]': 27.9, 'Iy[cm4]': 2017.0, 'Iz[cm4]': 231.0, 'Ip[cm4]': 2248.0, 'iy[mm]': 85.0, 'iz[mm]': 28.7, 'ip[mm]': 89.7, 'max Sy[cm3]': 29.5, 'max Sz[cm3]': 14.39, 'Wy[cm3]': 202.0, 'Wz[cm3]': 38.0, 'Ay[cm2]': 16.14, 'Az[cm2]': 8.77, 'It[cm4]': 4.8, 'max ω[cm2]': 57.6, 'Iω[cm6]': 21234.0, 'iω[mm]': 30.7, 'Wω[cm4]': 368.65, 'max Sω[cm4]': 138.24, 'Wpl,y[cm3]': 59.0, 'Wpl,z[cm3]': 225.0, 'Wpl,ω[cm4]': 552.96, 'αpl,y': 0.292, 'αpl,z': 5.921, 'αpl,ω': 1.5, 'Apl,y[cm2]': 19.2, 'Apl,z[cm2]': 9.12, 'Npl[kN]': 656.59, 'Vpl,y[kN]': 260.5, 'Vpl,z[kN]': 123.738, 'Mpl,y[kNm]': 52.76, 'Mpl,z[kNm]': 13.78, 'G[kg/m]': 21.9, 'Am[m2/m]': 0.871, 'V[cm3/m]': 2790.0, 'Am/V[1/m]': 312.007}\n"
     ]
    }
   ],
   "source": [
    "selected_shape=shape_selector.value\n",
    "\n",
    "with open('VS_NBR.csv', 'r', encoding='utf-8-sig') as csv_file:\n",
    "    csv_reader = csv.DictReader(csv_file)\n",
    "        \n",
    "    fun = lambda dic: True if dic.get('Section')==selected_shape else False # Mudar a string 'VS...' para uma variável que pega o valor escolhido num dropdown\n",
    "    filtered = filter(fun, csv_reader)\n",
    "    #shape_dic = list(filter(fun, csv_reader))\n",
    "    #print(shape_dic)\n",
    "    shape_dic=(next(filtered))\n",
    "    \n",
    "    # Este bloco converte os valores numéricos de str para float\n",
    "    itervals = iter(shape_dic.keys())\n",
    "    next(itervals) # para pular o primeiro, que é str (o nome da seção)\n",
    "    for n in itervals:\n",
    "            shape_dic[n] = float(shape_dic[n])\n",
    "            \n",
    "    print(shape_dic)"
   ]
  },
  {
   "cell_type": "code",
   "execution_count": 23,
   "id": "9255d2eb-5032-44e1-8bfd-4236f4515bcb",
   "metadata": {
    "tags": []
   },
   "outputs": [
    {
     "data": {
      "text/latex": [
       "\\[\n",
       "\\begin{aligned}\n",
       "A &= 2790{,}00\\ \\text{mm}^{2} \\; \n",
       " &A_{s} &= 7650{,}00\\ \\text{mm}^{2} \\; \n",
       " &d &= 406{,}00\\ \\text{mm} \\; \n",
       "\\\\[10pt]\n",
       " d_{sup} &= 203{,}00\\ \\text{mm} \\; \n",
       " &d_{inf} &= 203{,}00\\ \\text{mm} \\; \n",
       " &t_{f} &= 12{,}80\\ \\text{mm} \\; \n",
       "\\\\[10pt]\n",
       " b_{f} &= 178{,}00\\ \\text{mm} \\; \n",
       " &t_{w} &= 7{,}80\\ \\text{mm} \\; \n",
       " &h_{w} &= 380{,}40\\ \\text{mm} \\; \n",
       "\\\\[10pt]\\end{aligned}\n",
       "\\]"
      ],
      "text/plain": [
       "<IPython.core.display.Latex object>"
      ]
     },
     "metadata": {},
     "output_type": "display_data"
    }
   ],
   "source": [
    "%%render 2 params\n",
    "A = shape_dic['A[cm2]'] * (10*mm)**2\n",
    "A_s = 7650 * mm**2\n",
    "d = 406 * mm\n",
    "d_sup = d/2\n",
    "d_inf = d/2\n",
    "t_f = 12.8 * mm\n",
    "b_f = 178 * mm\n",
    "t_w = 7.8 * mm\n",
    "h_w = d - 2*t_f### Resistência do conector "
   ]
  },
  {
   "cell_type": "code",
   "execution_count": 9,
   "id": "split-violin",
   "metadata": {
    "tags": []
   },
   "outputs": [
    {
     "data": {
      "text/latex": [
       "\\[\n",
       "\\begin{aligned}\n",
       "P_{Rd1} &= \\frac{ 0{,}8 \\cdot f_{uk} \\cdot \\left( \\frac{ \\pi \\cdot \\left( d \\right) ^{ 2 } }{ 4 } \\right) }{ \\gamma_{v} } \\\\&= \\frac{ 0{,}8 \\cdot 500{,}00\\ \\text{MPa} \\cdot \\left( \\frac{ 3{,}14 \\cdot \\left( 19{,}00\\ \\text{mm} \\right) ^{ 2 } }{ 4 } \\right) }{ 1{,}25 } \\\\&= 90{,}73\\ \\text{kN}  \\\\\n",
       "\\\\[10pt]\n",
       "P_{Rd2} &= \\frac{ 0{,}29 \\cdot \\left( d \\right) ^{ 2 } \\cdot \\left( f_{ck} \\cdot E_{cm} \\right) ^{ 0{,}5 } }{ \\gamma_{v} }  = \\frac{ 0{,}29 \\cdot \\left( 19{,}00\\ \\text{mm} \\right) ^{ 2 } \\cdot \\left( 25{,}00\\ \\text{MPa} \\cdot 20{,}70\\ \\text{GPa} \\right) ^{ 0{,}5 } }{ 1{,}25 } &= 60{,}25\\ \\text{kN}  \n",
       "\\\\[10pt]\n",
       "P_{Rd} &= \\operatorname{min} { \\left( P_{Rd1} ,\\ P_{Rd2} \\right) }  = \\operatorname{min} { \\left( 90{,}73\\ \\text{kN} ,\\ 60{,}25\\ \\text{kN} \\right) } &= 60{,}25\\ \\text{kN}  \n",
       "\\end{aligned}\n",
       "\\]"
      ],
      "text/plain": [
       "<IPython.core.display.Latex object>"
      ]
     },
     "metadata": {},
     "output_type": "display_data"
    }
   ],
   "source": [
    "%%render 2\n",
    "# Resistência do aço do conector\n",
    "P_Rd1 = (0.8 * f_uk * ((pi * d**2) / 4)) / gamma_v\n",
    "\n",
    "# Resistência ao esmagamento local do concreto\n",
    "P_Rd2 = (0.29 * d**2 * (f_ck * E_cm )**(0.5)) / gamma_v\n",
    "\n",
    "P_Rd = min(P_Rd1, P_Rd2)"
   ]
  },
  {
   "cell_type": "markdown",
   "id": "composed-metadata",
   "metadata": {
    "toc-hr-collapsed": true
   },
   "source": [
    "## 1. Definição de ações e carregamentos correspondentes"
   ]
  },
  {
   "cell_type": "markdown",
   "id": "senior-occurrence",
   "metadata": {},
   "source": [
    "### 1.1 Ações permanentes"
   ]
  },
  {
   "cell_type": "code",
   "execution_count": 10,
   "id": "global-multimedia",
   "metadata": {
    "jupyter": {
     "source_hidden": true
    },
    "tags": []
   },
   "outputs": [
    {
     "data": {
      "text/latex": [
       "\\[\n",
       "\\begin{aligned}\n",
       "\\delta_{a} &= 77 \\cdot \\frac{ \\mathrm{kN} }{ \\left( m \\right) ^{ 3 } } \\; \\;\\textrm{(aço)}\n",
       "\\\\[10pt]\n",
       "\\delta_{LC} &= 19{,}5 \\cdot \\frac{ \\mathrm{kN} }{ \\left( m \\right) ^{ 3 } } \\; \\;\\textrm{(peso específico do concreto da laje)}\n",
       "\\\\[10pt]\n",
       "V_{conc} &= 0{,}125 \\cdot \\frac{ \\left( m \\right) ^{ 3 } }{ \\left( m \\right) ^{ 2 } } \\; \\;\\textrm{(m³ de concreto por m² de piso)}\n",
       "\\end{aligned}\n",
       "\\]"
      ],
      "text/plain": [
       "<IPython.core.display.Latex object>"
      ]
     },
     "metadata": {},
     "output_type": "display_data"
    }
   ],
   "source": [
    "%%render 2 symbol\n",
    "# Aço estrutural\n",
    "delta_a = 77 * kN/m**3 # aço\n",
    "\n",
    "# Concreto leve LC25/28\n",
    "delta_LC = 19.5 * kN/m**3 # peso específico do concreto da laje\n",
    "V_conc = 0.125 * m**3 / m **2 # m³ de concreto por m² de piso\n"
   ]
  },
  {
   "cell_type": "markdown",
   "id": "excessive-gregory",
   "metadata": {},
   "source": [
    "### 1.2 Cargas permanentes por m²"
   ]
  },
  {
   "cell_type": "code",
   "execution_count": 11,
   "id": "worldwide-michael",
   "metadata": {
    "jupyter": {
     "source_hidden": true
    },
    "tags": []
   },
   "outputs": [
    {
     "data": {
      "text/latex": [
       "\\[\n",
       "\\begin{aligned}\n",
       "g_{kp_{A}} &= 0{,}1 \\cdot \\frac{ \\mathrm{kN} }{ \\left( m \\right) ^{ 2 } }  = 0{,}1 \\cdot \\frac{ kN }{ \\left( m \\right) ^{ 2 } } &= 100{,}00\\ \\text{Pa} \\; \\;\\textrm{(peso do deck)}\n",
       "\\\\[10pt]\n",
       "g_{kc_{A}} &= V_{conc} \\cdot \\delta_{LC}  = 125{,}00\\ \\text{mm} \\cdot 19{,}50\\ \\text{kN/m³} &= 2{,}44\\ \\text{kPa} \\; \\;\\textrm{(peso de concreto)}\n",
       "\\\\[10pt]\n",
       "g_{k_{LAJE_{A}}} &= g_{kp_{A}} + g_{kc_{A}}  = 100{,}00\\ \\text{Pa} + 2{,}44\\ \\text{kPa} &= 2{,}54\\ \\text{kPa} \\; \\;\\textrm{(peso da laje composta)}\n",
       "\\\\[10pt]\n",
       "g_{H2OA} &= 0{,}125 \\cdot \\frac{ \\mathrm{kN} }{ \\left( m \\right) ^{ 3 } }  = 0{,}125 \\cdot \\frac{ kN }{ \\left( m \\right) ^{ 3 } } &= 125{,}00\\ \\text{N/m³} \\; \\;\\textrm{(acréscimo de 1kN/m² para o concreto fresco)}\n",
       "\\\\[10pt]\n",
       "g_{k2_{A}} &= 1{,}3 \\cdot \\frac{ \\mathrm{kN} }{ \\left( m \\right) ^{ 2 } }  = 1{,}3 \\cdot \\frac{ kN }{ \\left( m \\right) ^{ 2 } } &= 1{,}30\\ \\text{kPa} \\; \\;\\textrm{(acabamentos - piso e forros)}\n",
       "\\end{aligned}\n",
       "\\]"
      ],
      "text/plain": [
       "<IPython.core.display.Latex object>"
      ]
     },
     "metadata": {},
     "output_type": "display_data"
    }
   ],
   "source": [
    "%%render 2\n",
    "g_kp_A = 0.1 * kN / m**2 # peso do deck\n",
    "g_kc_A = V_conc * delta_LC #peso de concreto\n",
    "g_k_LAJE_A = g_kp_A + g_kc_A # peso da laje composta\n",
    "g_H2OA = 0.125 * kN/m**3 # acréscimo de 1kN/m² para o concreto fresco\n",
    "g_k2_A = 1.3 * kN/m**2 # acabamentos - piso e forros"
   ]
  },
  {
   "cell_type": "markdown",
   "id": "certain-debate",
   "metadata": {},
   "source": [
    "### 1.3 Cargas variáveis por m²\n",
    "Andares na categoria C3 do EN 1991-1-1."
   ]
  },
  {
   "cell_type": "code",
   "execution_count": 12,
   "id": "biblical-agenda",
   "metadata": {
    "jupyter": {
     "source_hidden": true
    },
    "tags": []
   },
   "outputs": [
    {
     "data": {
      "text/latex": [
       "\\[\n",
       "\\begin{aligned}\n",
       "q_{k1} &= 5 \\cdot \\frac{ \\mathrm{kN} }{ \\left( m \\right) ^{ 2 } } \\; \\;\\textrm{(pessoas)}\n",
       "\\\\[10pt]\n",
       "q_{k2} &= 1{,}2 \\cdot \\frac{ \\mathrm{kN} }{ \\left( m \\right) ^{ 2 } } \\; \\;\\textrm{(partições móveis)}\n",
       "\\end{aligned}\n",
       "\\]"
      ],
      "text/plain": [
       "<IPython.core.display.Latex object>"
      ]
     },
     "metadata": {},
     "output_type": "display_data"
    }
   ],
   "source": [
    "%%render 2 symbol\n",
    "q_k1 = 5 * kN/m**2 # pessoas\n",
    "q_k2 = 1.2 * kN/m**2 # partições móveis"
   ]
  },
  {
   "cell_type": "markdown",
   "id": "talented-alliance",
   "metadata": {},
   "source": [
    "### 1.4 Cargas características na viga"
   ]
  },
  {
   "cell_type": "code",
   "execution_count": 13,
   "id": "ahead-vacation",
   "metadata": {
    "jupyter": {
     "source_hidden": true
    },
    "tags": []
   },
   "outputs": [
    {
     "data": {
      "text/latex": [
       "\\[\n",
       "\\begin{aligned}\n",
       "d_{v} &= 4 \\cdot m  = 4 \\cdot m &= 4{,}000\\ \\text{m} \\; \\;\\textrm{(distância entre vigas)}\n",
       "\\end{aligned}\n",
       "\\]"
      ],
      "text/plain": [
       "<IPython.core.display.Latex object>"
      ]
     },
     "metadata": {},
     "output_type": "display_data"
    }
   ],
   "source": [
    "%%render\n",
    "d_v = 4 * m # distância entre vigas"
   ]
  },
  {
   "cell_type": "code",
   "execution_count": 14,
   "id": "adequate-circular",
   "metadata": {
    "jupyter": {
     "source_hidden": true
    },
    "tags": []
   },
   "outputs": [
    {
     "data": {
      "text/latex": [
       "\\[\n",
       "\\begin{aligned}\n",
       "g_{k1} &= g_{k_{LAJE_{A}}} \\cdot d_{v}  = 2{,}54\\ \\text{kPa} \\cdot 4{,}00\\ \\text{m} &= 10{,}15\\ \\text{kN/m} \\; \\;\\textrm{(peso da laje composta sobre a viga de aço)}\n",
       "\\\\[10pt]\n",
       "g_{k2} &= g_{k2_{A}} \\cdot d_{v}  = 1{,}30\\ \\text{kPa} \\cdot 4{,}00\\ \\text{m} &= 5{,}20\\ \\text{kN/m} \\; \\;\\textrm{(peso dos acabamentos na viga composta)}\n",
       "\\\\[10pt]\n",
       "g_{k_{FIRE}} &= 2{,}2 \\cdot \\frac{ \\mathrm{kN} }{ m }  = 2{,}2 \\cdot \\frac{ kN }{ m } &= 2{,}20\\ \\text{kN/m} \\; \\;\\textrm{(estimativa do peso da viga com proteção contra incêndio)}\n",
       "\\\\[10pt]\n",
       "q_{k} &= \\left( q_{k1} + q_{k2} \\right) \\cdot d_{v}  = \\left( 5{,}00\\ \\text{kPa} + 1{,}20\\ \\text{kPa} \\right) \\cdot 4{,}00\\ \\text{m} &= 24{,}80\\ \\text{kN/m} \\; \\;\\textrm{(carga variável para a viga composta)}\n",
       "\\end{aligned}\n",
       "\\]"
      ],
      "text/plain": [
       "<IPython.core.display.Latex object>"
      ]
     },
     "metadata": {},
     "output_type": "display_data"
    }
   ],
   "source": [
    "%%render 2\n",
    "g_k1 = g_k_LAJE_A * d_v # peso da laje composta sobre a viga de aço\n",
    "g_k2 = g_k2_A * d_v # peso dos acabamentos na viga composta\n",
    "g_k_FIRE = 2.2 * kN/m # estimativa do peso da viga com proteção contra incêndio\n",
    "q_k = (q_k1+q_k2)*d_v # carga variável para a viga composta"
   ]
  },
  {
   "cell_type": "markdown",
   "id": "adult-lancaster",
   "metadata": {},
   "source": [
    "### 1.5 Combinação de projeto para viga no ELU de ruptura à flexão e $M_{Ed}$"
   ]
  },
  {
   "cell_type": "code",
   "execution_count": 15,
   "id": "aging-accountability",
   "metadata": {
    "jupyter": {
     "source_hidden": true
    },
    "tags": []
   },
   "outputs": [
    {
     "data": {
      "text/latex": [
       "\\[\n",
       "\\begin{aligned}\n",
       "g_{d} &= 1{,}35 \\cdot \\left( g_{k1} + g_{k2} + g_{k_{FIRE}} \\right)  = 1{,}35 \\cdot \\left( 10{,}2\\ \\text{kN/m} + 5{,}2\\ \\text{kN/m} + 2{,}2\\ \\text{kN/m} \\right) &= 23{,}7\\ \\text{kN/m}  \n",
       "\\\\[10pt]\n",
       "q_{d} &= 1{,}5 \\cdot q_{k}  = 1{,}5 \\cdot 24{,}8\\ \\text{kN/m} &= 37{,}2\\ \\text{kN/m}  \n",
       "\\\\[10pt]\n",
       "L &= 9 \\cdot m - 4 \\cdot 0{,}1 \\cdot m  = 9 \\cdot m - 4 \\cdot 0{,}1 \\cdot m &= 8{,}6\\ \\text{m}  \n",
       "\\\\[10pt]\n",
       "M_{Ed} &= \\frac{ \\left( g_{d} + q_{d} \\right) \\cdot \\left( L \\right) ^{ 2 } }{ 8 }  = \\frac{ \\left( 23{,}7\\ \\text{kN/m} + 37{,}2\\ \\text{kN/m} \\right) \\cdot \\left( 8{,}6\\ \\text{m} \\right) ^{ 2 } }{ 8 } &= 563{,}0\\ \\text{kN} \\cdot \\text{m}  \n",
       "\\end{aligned}\n",
       "\\]"
      ],
      "text/plain": [
       "<IPython.core.display.Latex object>"
      ]
     },
     "metadata": {},
     "output_type": "display_data"
    }
   ],
   "source": [
    "%%render 1\n",
    "g_d = 1.35 * (g_k1 + g_k2+ g_k_FIRE)\n",
    "q_d = 1.5 * (q_k)\n",
    "\n",
    "# O vão é igual a:\n",
    "#   Dist. entre colunas\n",
    "# - altura dos perfis das colunas (20cm/2 cada lado)\n",
    "# - dis. pt. ef. de suporte (10cm)\n",
    "L = 9 * m - 4 * 0.1 * m\n",
    "M_Ed = ((g_d + q_d) *  L**2)/8"
   ]
  },
  {
   "cell_type": "markdown",
   "id": "collect-sustainability",
   "metadata": {},
   "source": [
    "### 1.6 Escolha do perfil: 406X178 UB 60 - PERFIL SIMÉTRICO"
   ]
  },
  {
   "cell_type": "code",
   "execution_count": 16,
   "id": "adaptive-asset",
   "metadata": {
    "tags": []
   },
   "outputs": [
    {
     "data": {
      "text/latex": [
       "\\[\n",
       "\\begin{aligned}\n",
       "A_{s} &= 7650{,}00\\ \\text{mm}^{2} \\; \n",
       " &d &= 406{,}00\\ \\text{mm} \\; \n",
       " &d_{sup} &= 203{,}00\\ \\text{mm} \\; \n",
       "\\\\[10pt]\n",
       " d_{inf} &= 203{,}00\\ \\text{mm} \\; \n",
       " &t_{f} &= 12{,}80\\ \\text{mm} \\; \n",
       " &b_{f} &= 178{,}00\\ \\text{mm} \\; \n",
       "\\\\[10pt]\n",
       " t_{w} &= 7{,}80\\ \\text{mm} \\; \n",
       " &h_{w} &= 380{,}40\\ \\text{mm} \\;\\end{aligned}\n",
       "\\]"
      ],
      "text/plain": [
       "<IPython.core.display.Latex object>"
      ]
     },
     "metadata": {},
     "output_type": "display_data"
    }
   ],
   "source": [
    "%%render 2 params\n",
    "A_s = 7650 * mm**2\n",
    "d = 406 * mm\n",
    "d_sup = d/2\n",
    "d_inf = d/2\n",
    "t_f = 12.8 * mm\n",
    "#t_f = 25.4 * mm\n",
    "b_f = 178 * mm\n",
    "#b_f = 300 * mm\n",
    "t_w = 7.8 * mm\n",
    "h_w = d - 2*t_f"
   ]
  },
  {
   "cell_type": "markdown",
   "id": "north-petroleum",
   "metadata": {},
   "source": [
    "## 2. Largura efetiva $b_{ef}$ da aba de concreto"
   ]
  },
  {
   "cell_type": "code",
   "execution_count": 17,
   "id": "innocent-address",
   "metadata": {
    "scrolled": true,
    "tags": []
   },
   "outputs": [
    {
     "data": {
      "text/latex": [
       "\\[\n",
       "\\begin{aligned}\n",
       "b_{ef} &= \\frac{ L }{ 4 } + 0{,}1  = \\frac{ 8{,}60\\ \\text{m} }{ 4 } + 0{,}1 &= 2{,}25\\ \\text{m} \\; \\;\\textrm{(10cm é a distância entre conectores)}\n",
       "\\end{aligned}\n",
       "\\]"
      ],
      "text/plain": [
       "<IPython.core.display.Latex object>"
      ]
     },
     "metadata": {},
     "output_type": "display_data"
    }
   ],
   "source": [
    "%%render 2\n",
    "b_ef = L/4 + 0.1 # 10cm é a distância entre conectores\n"
   ]
  },
  {
   "cell_type": "markdown",
   "id": "bizarre-roller",
   "metadata": {
    "tags": [],
    "toc-hr-collapsed": true
   },
   "source": [
    "## 3. Cálculo para interação total"
   ]
  },
  {
   "cell_type": "markdown",
   "id": "arctic-virtue",
   "metadata": {},
   "source": [
    "### 3.1 Cálculo de $M_{pl,Rd}$"
   ]
  },
  {
   "cell_type": "code",
   "execution_count": 18,
   "id": "announced-thesis",
   "metadata": {
    "jupyter": {
     "source_hidden": true
    },
    "tags": []
   },
   "outputs": [
    {
     "data": {
      "text/latex": [
       "\\[\n",
       "\\begin{aligned}\n",
       "\\alpha_{c} &= 0{,}85 \\; \n",
       "\\\\[10pt]\n",
       "N_{cf} &= b_{ef} \\cdot h_{c} \\cdot \\left( \\alpha_{c} \\cdot f_{cd} \\right)  = 2{,}25\\ \\text{m} \\cdot 80{,}00\\ \\text{mm} \\cdot \\left( 0{,}85 \\cdot 16{,}67\\ \\text{MPa} \\right) &= 2{,}55\\ \\text{MN}  \n",
       "\\\\[10pt]\n",
       "N_{pla} &= f_{yd} \\cdot A_{s}  = 355{,}00\\ \\text{MPa} \\cdot 7650{,}00\\ \\text{mm}^{2} &= 2{,}72\\ \\text{MN}  \n",
       "\\\\[10pt]\n",
       "\\rho_{w} &= 1 \\; \\;\\textrm{(Este valor depende de $V_{Ed}$ ver pg. 158 pdf Hanswille)}\n",
       "\\\\[10pt]\n",
       "N_{plw} &= f_{yd} \\cdot \\left( 1 - \\rho_{w} \\right) \\cdot t_{w} \\cdot h_{w}  = 355{,}00\\ \\text{MPa} \\cdot \\left( 1 - 1 \\right) \\cdot 7{,}80\\ \\text{mm} \\cdot 380{,}40\\ \\text{mm} &= 0{,}00\\ \\text{N}  \n",
       "\\end{aligned}\n",
       "\\]"
      ],
      "text/plain": [
       "<IPython.core.display.Latex object>"
      ]
     },
     "metadata": {},
     "output_type": "display_data"
    }
   ],
   "source": [
    "%%render 2 \n",
    "alpha_c = 0.85\n",
    "N_cf = b_ef * h_c * (alpha_c * f_cd) \n",
    "N_pla = f_yd * A_s\n",
    "rho_w=1 # Este valor depende de $V_{Ed}$ ver pg. 158 pdf Hanswille\n",
    "N_plw = f_yd * (1 - rho_w) * t_w * h_w"
   ]
  },
  {
   "cell_type": "code",
   "execution_count": 19,
   "id": "veterinary-cocktail",
   "metadata": {
    "tags": []
   },
   "outputs": [],
   "source": [
    "def LNP_position(N_cf, N_pla):\n",
    "    \"\"\"\n",
    "    Define a posição da linha neutra\n",
    "    \"\"\"\n",
    "    # Condição para LNP no perfil\n",
    "    if N_cf < N_pla:\n",
    "        display(Markdown(\"$N_{c,f} < N_{a,pl}$: O aço resiste mais força normal, então toda a aba de concreto está comprimida no ELU, logo a LNP está no perfil de aço.\"))\n",
    "        M_plRd=LNP_steel(N_pla, N_cf, b_ef, t_f, f_yd)\n",
    "        return M_plRd\n",
    "    # Condição para a LNP na aba superior de concreto\n",
    "    elif N_pla < N_cf:\n",
    "        display(Markdown(\"$N_{c,f} > N_{a,pl}$: O concreto resiste mais força normal, então todo o perfil está tracionado, e a LNP está na aba de concreto.\"))\n",
    "        # COLOCAR AQUI O RESTO DOS CALCULOS PRA DETERMINAR MplRd\n",
    "        M_plRd=MplRd_calc('A')\n",
    "        return M_plRd\n",
    "        \n",
    "def LNP_steel(N_pla, N_cf, b_f, t_f, f_yd):\n",
    "    \"\"\"\n",
    "    Calcula a posição da LNP se estiver no perfil de aço\n",
    "    \"\"\"\n",
    "    N_ac = N_pla - N_cf\n",
    "    if N_ac <= 2 * b_f * t_f * f_yd:\n",
    "        display(Markdown(\"LNP na aba superior da viga de aço\"))\n",
    "        #Seguindo formulação do Hanswille pg. 73\n",
    "        M_plRd=MplRd_calc('B')\n",
    "        return M_plRd\n",
    "    elif N_ac > 2 * b_ef * t_f * f_yd:\n",
    "        display(Markdown(\"LNP na alma da viga de aço\"))\n",
    "        M_plRd=MplRd_calc('C')\n",
    "        return M_plRd\n",
    "        \n",
    "def MplRd_calc(x):\n",
    "    \"\"\"\n",
    "    Calcula o momento plástico resistente, conforme o caso para a LNP\n",
    "    \"\"\"\n",
    "    z_a = h_t + d_sup # dist da borda sup. ao CG da seção de aço\n",
    "    z_w = h_t + t_f + h_w * 0.5 # dist. da borda sup. ao CG da alma\n",
    "    N_f = 2 * f_yd * b_f * t_f\n",
    "    if x == 'A':\n",
    "        z_pl = (N_pla - N_plw)/(alpha_c * f_cd * b_ef)\n",
    "        print(f\"z_pl={z_pl}\")\n",
    "        M_plRd = N_pla * (z_a - 0.5 * z_pl) - N_plw * (z_w - 0.5 * z_pl)\n",
    "        return M_plRd\n",
    "    if x == 'B':\n",
    "        z_pl = h_t + (N_pla - N_plw - N_cf)/(2 * f_yd * b_f)\n",
    "        M_plRd = N_pla * (z_a - (h_t - h_c)*0.5) - N_plw * (z_w - (h_t - h_c)*0.5) - N_f*(z_pl-h_t)*(z_pl+h_c)/(2*t_f)\n",
    "        return M_plRd\n",
    "    if x == 'C':\n",
    "        z_pl = h_t + t_f + (N_pla - N_plw - N_cf - N_f)/(2 * f_yd * rho_w * t_w)\n",
    "        N_w = 2 * f_yd * t_w * (z_pl - h_t - t_f)\n",
    "        M_plRd = N_pla * (z_a - (h_t - h_c)*0.5) - N_plw * (z_w - (h_t - h_c)*0.5) - N_f * (t_f + h_t + h_c) * 0.5 - N_w * (z_pl + t_f + h_c)*0.5\n",
    "        return M_plRd"
   ]
  },
  {
   "cell_type": "code",
   "execution_count": 20,
   "id": "mobile-difference",
   "metadata": {},
   "outputs": [
    {
     "data": {
      "text/markdown": [
       "$N_{c,f} < N_{a,pl}$: O aço resiste mais força normal, então toda a aba de concreto está comprimida no ELU, logo a LNP está no perfil de aço."
      ],
      "text/plain": [
       "<IPython.core.display.Markdown object>"
      ]
     },
     "metadata": {},
     "output_type": "display_data"
    },
    {
     "data": {
      "text/markdown": [
       "LNP na aba superior da viga de aço"
      ],
      "text/plain": [
       "<IPython.core.display.Markdown object>"
      ]
     },
     "metadata": {},
     "output_type": "display_data"
    }
   ],
   "source": [
    "M_plRd=LNP_position(N_cf, N_pla)"
   ]
  },
  {
   "cell_type": "code",
   "execution_count": 21,
   "id": "forced-monster",
   "metadata": {
    "tags": []
   },
   "outputs": [
    {
     "data": {
      "text/latex": [
       "\\[\n",
       "\\begin{aligned}\n",
       "M_{plRd} &= 844{,}4\\ \\text{kN} \\cdot \\text{m} \\; \n",
       "\\end{aligned}\n",
       "\\]"
      ],
      "text/plain": [
       "<IPython.core.display.Latex object>"
      ]
     },
     "metadata": {},
     "output_type": "display_data"
    }
   ],
   "source": [
    "%%render 1\n",
    "\n",
    "M_plRd"
   ]
  },
  {
   "cell_type": "markdown",
   "id": "563ef38d-726d-4bff-b4f5-1a9695debc25",
   "metadata": {},
   "source": [
    "### Registro de testes e notas para melhorar entrada de dados\n",
    "\n",
    "* Dados de perfil poderiam ser obtidos de um dicionário, para facilitar a escolha a partir de um CSV.\n",
    "* Adicionar um recurso de plotagem para desenhar a seção e as tensões no ELU."
   ]
  }
 ],
 "metadata": {
  "kernelspec": {
   "display_name": "Python 3",
   "language": "python",
   "name": "python3"
  },
  "language_info": {
   "codemirror_mode": {
    "name": "ipython",
    "version": 3
   },
   "file_extension": ".py",
   "mimetype": "text/x-python",
   "name": "python",
   "nbconvert_exporter": "python",
   "pygments_lexer": "ipython3",
   "version": "3.9.1"
  },
  "toc-autonumbering": false,
  "toc-showtags": false
 },
 "nbformat": 4,
 "nbformat_minor": 5
}
